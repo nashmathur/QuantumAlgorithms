{
 "cells": [
  {
   "cell_type": "code",
   "execution_count": 1,
   "metadata": {},
   "outputs": [],
   "source": [
    "from qiskit import *"
   ]
  },
  {
   "cell_type": "code",
   "execution_count": 2,
   "metadata": {},
   "outputs": [],
   "source": [
    "%matplotlib inline"
   ]
  },
  {
   "cell_type": "code",
   "execution_count": 3,
   "metadata": {},
   "outputs": [],
   "source": [
    "from qiskit.tools.visualization import plot_bloch_multivector, plot_histogram"
   ]
  },
  {
   "cell_type": "code",
   "execution_count": 4,
   "metadata": {},
   "outputs": [],
   "source": [
    "qcirc = QuantumCircuit(3,3)"
   ]
  },
  {
   "cell_type": "code",
   "execution_count": 5,
   "metadata": {},
   "outputs": [
    {
     "data": {
      "text/plain": [
       "<qiskit.circuit.instructionset.InstructionSet at 0x7f85f75a6ba8>"
      ]
     },
     "execution_count": 5,
     "metadata": {},
     "output_type": "execute_result"
    }
   ],
   "source": [
    "qcirc.x(0)\n",
    "qcirc.h(0)"
   ]
  },
  {
   "cell_type": "code",
   "execution_count": 6,
   "metadata": {},
   "outputs": [
    {
     "data": {
      "text/plain": [
       "<qiskit.circuit.instructionset.InstructionSet at 0x7f85f753e0b8>"
      ]
     },
     "execution_count": 6,
     "metadata": {},
     "output_type": "execute_result"
    }
   ],
   "source": [
    "qcirc.barrier()\n",
    "qcirc.draw()"
   ]
  },
  {
   "cell_type": "code",
   "execution_count": 7,
   "metadata": {},
   "outputs": [
    {
     "data": {
      "text/plain": [
       "<qiskit.circuit.instructionset.InstructionSet at 0x7f85f753e828>"
      ]
     },
     "execution_count": 7,
     "metadata": {},
     "output_type": "execute_result"
    }
   ],
   "source": [
    "qcirc.h(1)\n",
    "qcirc.cx(1,2)"
   ]
  },
  {
   "cell_type": "code",
   "execution_count": 8,
   "metadata": {},
   "outputs": [
    {
     "data": {
      "text/plain": [
       "<qiskit.circuit.instructionset.InstructionSet at 0x7f85f75a6358>"
      ]
     },
     "execution_count": 8,
     "metadata": {},
     "output_type": "execute_result"
    }
   ],
   "source": [
    "qcirc.cx(0,1)\n",
    "qcirc.h(0)"
   ]
  },
  {
   "cell_type": "code",
   "execution_count": 9,
   "metadata": {},
   "outputs": [
    {
     "data": {
      "text/html": [
       "<pre style=\"word-wrap: normal;white-space: pre;background: #fff0;line-height: 1.1;font-family: &quot;Courier New&quot;,Courier,monospace\">        ┌───┐┌───┐ ░                ┌───┐ ░ \n",
       "q_0: |0>┤ X ├┤ H ├─░─────────────■──┤ H ├─░─\n",
       "        └───┘└───┘ ░ ┌───┐     ┌─┴─┐└───┘ ░ \n",
       "q_1: |0>───────────░─┤ H ├──■──┤ X ├──────░─\n",
       "                   ░ └───┘┌─┴─┐└───┘      ░ \n",
       "q_2: |0>───────────░──────┤ X ├───────────░─\n",
       "                   ░      └───┘           ░ \n",
       " c_0: 0 ════════════════════════════════════\n",
       "                                            \n",
       " c_1: 0 ════════════════════════════════════\n",
       "                                            \n",
       " c_2: 0 ════════════════════════════════════\n",
       "                                            </pre>"
      ],
      "text/plain": [
       "<qiskit.visualization.text.TextDrawing at 0x7f86382b6198>"
      ]
     },
     "execution_count": 9,
     "metadata": {},
     "output_type": "execute_result"
    }
   ],
   "source": [
    "qcirc.barrier()\n",
    "qcirc.draw()"
   ]
  },
  {
   "cell_type": "code",
   "execution_count": 10,
   "metadata": {},
   "outputs": [
    {
     "data": {
      "text/plain": [
       "<qiskit.circuit.instructionset.InstructionSet at 0x7f85f753e710>"
      ]
     },
     "execution_count": 10,
     "metadata": {},
     "output_type": "execute_result"
    }
   ],
   "source": [
    "qcirc.measure(0,0)"
   ]
  },
  {
   "cell_type": "code",
   "execution_count": 11,
   "metadata": {},
   "outputs": [
    {
     "data": {
      "text/plain": [
       "<qiskit.circuit.instructionset.InstructionSet at 0x7f85f753eeb8>"
      ]
     },
     "execution_count": 11,
     "metadata": {},
     "output_type": "execute_result"
    }
   ],
   "source": [
    "qcirc.measure(1,1)"
   ]
  },
  {
   "cell_type": "code",
   "execution_count": 12,
   "metadata": {},
   "outputs": [
    {
     "data": {
      "text/html": [
       "<pre style=\"word-wrap: normal;white-space: pre;background: #fff0;line-height: 1.1;font-family: &quot;Courier New&quot;,Courier,monospace\">        ┌───┐┌───┐ ░                ┌───┐ ░ ┌─┐    ░ \n",
       "q_0: |0>┤ X ├┤ H ├─░─────────────■──┤ H ├─░─┤M├────░─\n",
       "        └───┘└───┘ ░ ┌───┐     ┌─┴─┐└───┘ ░ └╥┘┌─┐ ░ \n",
       "q_1: |0>───────────░─┤ H ├──■──┤ X ├──────░──╫─┤M├─░─\n",
       "                   ░ └───┘┌─┴─┐└───┘      ░  ║ └╥┘ ░ \n",
       "q_2: |0>───────────░──────┤ X ├───────────░──╫──╫──░─\n",
       "                   ░      └───┘           ░  ║  ║  ░ \n",
       " c_0: 0 ═════════════════════════════════════╩══╬════\n",
       "                                                ║    \n",
       " c_1: 0 ════════════════════════════════════════╩════\n",
       "                                                     \n",
       " c_2: 0 ═════════════════════════════════════════════\n",
       "                                                     </pre>"
      ],
      "text/plain": [
       "<qiskit.visualization.text.TextDrawing at 0x7f85f75a6da0>"
      ]
     },
     "execution_count": 12,
     "metadata": {},
     "output_type": "execute_result"
    }
   ],
   "source": [
    "qcirc.barrier()\n",
    "qcirc.draw()"
   ]
  },
  {
   "cell_type": "code",
   "execution_count": 13,
   "metadata": {},
   "outputs": [
    {
     "data": {
      "text/plain": [
       "<qiskit.circuit.instructionset.InstructionSet at 0x7f85f75a6898>"
      ]
     },
     "execution_count": 13,
     "metadata": {},
     "output_type": "execute_result"
    }
   ],
   "source": [
    "qcirc.cx(1,2)\n",
    "qcirc.cz(0,2)"
   ]
  },
  {
   "cell_type": "code",
   "execution_count": 14,
   "metadata": {},
   "outputs": [
    {
     "data": {
      "text/plain": [
       "<qiskit.circuit.instructionset.InstructionSet at 0x7f85f75a6ef0>"
      ]
     },
     "execution_count": 14,
     "metadata": {},
     "output_type": "execute_result"
    }
   ],
   "source": [
    "qcirc.h(2)"
   ]
  },
  {
   "cell_type": "code",
   "execution_count": 15,
   "metadata": {},
   "outputs": [
    {
     "data": {
      "text/html": [
       "<pre style=\"word-wrap: normal;white-space: pre;background: #fff0;line-height: 1.1;font-family: &quot;Courier New&quot;,Courier,monospace\">        ┌───┐┌───┐ ░                ┌───┐ ░ ┌─┐    ░                 \n",
       "q_0: |0>┤ X ├┤ H ├─░─────────────■──┤ H ├─░─┤M├────░───────■─────────\n",
       "        └───┘└───┘ ░ ┌───┐     ┌─┴─┐└───┘ ░ └╥┘┌─┐ ░       │         \n",
       "q_1: |0>───────────░─┤ H ├──■──┤ X ├──────░──╫─┤M├─░───■───┼─────────\n",
       "                   ░ └───┘┌─┴─┐└───┘      ░  ║ └╥┘ ░ ┌─┴─┐ │ ┌───┐┌─┐\n",
       "q_2: |0>───────────░──────┤ X ├───────────░──╫──╫──░─┤ X ├─■─┤ H ├┤M├\n",
       "                   ░      └───┘           ░  ║  ║  ░ └───┘   └───┘└╥┘\n",
       " c_0: 0 ═════════════════════════════════════╩══╬══════════════════╬═\n",
       "                                                ║                  ║ \n",
       " c_1: 0 ════════════════════════════════════════╩══════════════════╬═\n",
       "                                                                   ║ \n",
       " c_2: 0 ═══════════════════════════════════════════════════════════╩═\n",
       "                                                                     </pre>"
      ],
      "text/plain": [
       "<qiskit.visualization.text.TextDrawing at 0x7f85f759cfd0>"
      ]
     },
     "execution_count": 15,
     "metadata": {},
     "output_type": "execute_result"
    }
   ],
   "source": [
    "qcirc.measure(2, 2)\n",
    "qcirc.draw()"
   ]
  },
  {
   "cell_type": "code",
   "execution_count": 16,
   "metadata": {},
   "outputs": [],
   "source": [
    "simulator = Aer.get_backend('qasm_simulator')"
   ]
  },
  {
   "cell_type": "code",
   "execution_count": 17,
   "metadata": {},
   "outputs": [],
   "source": [
    "result = execute(qcirc, backend=simulator).result()"
   ]
  },
  {
   "cell_type": "code",
   "execution_count": 18,
   "metadata": {},
   "outputs": [
    {
     "data": {
      "image/png": "[encoded data removed]",
      "text/plain": [
       "<Figure size 504x360 with 1 Axes>"
      ]
     },
     "execution_count": 18,
     "metadata": {},
     "output_type": "execute_result"
    }
   ],
   "source": [
    "plot_histogram(result.get_counts(qcirc))"
   ]
  },
  {
   "cell_type": "code",
   "execution_count": null,
   "metadata": {},
   "outputs": [],
   "source": []
  },
  {
   "cell_type": "code",
   "execution_count": null,
   "metadata": {},
   "outputs": [],
   "source": []
  },
  {
   "cell_type": "code",
   "execution_count": null,
   "metadata": {},
   "outputs": [],
   "source": []
  }
 ],
 "metadata": {
  "kernelspec": {
   "display_name": "Python 3",
   "language": "python",
   "name": "python3"
  },
  "language_info": {
   "codemirror_mode": {
    "name": "ipython",
    "version": 3
   },
   "file_extension": ".py",
   "mimetype": "text/x-python",
   "name": "python",
   "nbconvert_exporter": "python",
   "pygments_lexer": "ipython3",
   "version": "3.7.3"
  }
 },
 "nbformat": 4,
 "nbformat_minor": 2
}
